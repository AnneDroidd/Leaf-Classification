{
 "cells": [
  {
   "cell_type": "markdown",
   "metadata": {},
   "source": [
    "# Plant Leaf Classification\n",
    "\n",
    "Applying machine learning models for classification of plant leaf images"
   ]
  },
  {
   "cell_type": "markdown",
   "metadata": {},
   "source": [
    "### Importing necessary libraries"
   ]
  },
  {
   "cell_type": "code",
   "execution_count": 1,
   "metadata": {},
   "outputs": [],
   "source": [
    "import numpy as np\n",
    "import pandas as pd\n",
    "import os\n",
    "import string\n",
    "import matplotlib.pyplot as plt"
   ]
  },
  {
   "cell_type": "markdown",
   "metadata": {},
   "source": [
    "### Reading the dataset"
   ]
  },
  {
   "cell_type": "code",
   "execution_count": 2,
   "metadata": {},
   "outputs": [],
   "source": [
    "dataset = pd.read_csv(\"Flavia_features.csv\")"
   ]
  },
  {
   "cell_type": "code",
   "execution_count": 3,
   "metadata": {},
   "outputs": [
    {
     "data": {
      "text/html": [
       "<div>\n",
       "<style scoped>\n",
       "    .dataframe tbody tr th:only-of-type {\n",
       "        vertical-align: middle;\n",
       "    }\n",
       "\n",
       "    .dataframe tbody tr th {\n",
       "        vertical-align: top;\n",
       "    }\n",
       "\n",
       "    .dataframe thead th {\n",
       "        text-align: right;\n",
       "    }\n",
       "</style>\n",
       "<table border=\"1\" class=\"dataframe\">\n",
       "  <thead>\n",
       "    <tr style=\"text-align: right;\">\n",
       "      <th></th>\n",
       "      <th>Unnamed: 0</th>\n",
       "      <th>area</th>\n",
       "      <th>perimeter</th>\n",
       "      <th>physiological_length</th>\n",
       "      <th>physiological_width</th>\n",
       "      <th>aspect_ratio</th>\n",
       "      <th>rectangularity</th>\n",
       "      <th>circularity</th>\n",
       "      <th>mean_r</th>\n",
       "      <th>mean_g</th>\n",
       "      <th>mean_b</th>\n",
       "      <th>stddev_r</th>\n",
       "      <th>stddev_g</th>\n",
       "      <th>stddev_b</th>\n",
       "      <th>contrast</th>\n",
       "      <th>correlation</th>\n",
       "      <th>inverse_difference_moments</th>\n",
       "      <th>entropy</th>\n",
       "    </tr>\n",
       "  </thead>\n",
       "  <tbody>\n",
       "    <tr>\n",
       "      <th>0</th>\n",
       "      <td>0</td>\n",
       "      <td>197484.0</td>\n",
       "      <td>3479.036038</td>\n",
       "      <td>1416</td>\n",
       "      <td>759</td>\n",
       "      <td>1.865613</td>\n",
       "      <td>5.442183</td>\n",
       "      <td>61.289480</td>\n",
       "      <td>6.395667</td>\n",
       "      <td>13.643413</td>\n",
       "      <td>4.388007</td>\n",
       "      <td>24.025329</td>\n",
       "      <td>40.200931</td>\n",
       "      <td>21.448412</td>\n",
       "      <td>12.639656</td>\n",
       "      <td>0.997666</td>\n",
       "      <td>0.911738</td>\n",
       "      <td>1.688689</td>\n",
       "    </tr>\n",
       "    <tr>\n",
       "      <th>1</th>\n",
       "      <td>0</td>\n",
       "      <td>101248.0</td>\n",
       "      <td>2490.381812</td>\n",
       "      <td>1190</td>\n",
       "      <td>130</td>\n",
       "      <td>9.153846</td>\n",
       "      <td>1.527931</td>\n",
       "      <td>61.255546</td>\n",
       "      <td>7.049316</td>\n",
       "      <td>9.232018</td>\n",
       "      <td>10.876066</td>\n",
       "      <td>33.816205</td>\n",
       "      <td>37.382221</td>\n",
       "      <td>46.479230</td>\n",
       "      <td>8.137424</td>\n",
       "      <td>0.997191</td>\n",
       "      <td>0.944818</td>\n",
       "      <td>1.193795</td>\n",
       "    </tr>\n",
       "    <tr>\n",
       "      <th>2</th>\n",
       "      <td>0</td>\n",
       "      <td>86570.5</td>\n",
       "      <td>2290.683327</td>\n",
       "      <td>1095</td>\n",
       "      <td>119</td>\n",
       "      <td>9.201681</td>\n",
       "      <td>1.505189</td>\n",
       "      <td>60.612219</td>\n",
       "      <td>3.434303</td>\n",
       "      <td>6.371511</td>\n",
       "      <td>2.644757</td>\n",
       "      <td>19.975699</td>\n",
       "      <td>29.057374</td>\n",
       "      <td>19.275050</td>\n",
       "      <td>8.553729</td>\n",
       "      <td>0.996610</td>\n",
       "      <td>0.959023</td>\n",
       "      <td>0.848758</td>\n",
       "    </tr>\n",
       "    <tr>\n",
       "      <th>3</th>\n",
       "      <td>0</td>\n",
       "      <td>190214.0</td>\n",
       "      <td>2856.479353</td>\n",
       "      <td>1318</td>\n",
       "      <td>254</td>\n",
       "      <td>5.188976</td>\n",
       "      <td>1.759976</td>\n",
       "      <td>42.896287</td>\n",
       "      <td>7.670415</td>\n",
       "      <td>13.303599</td>\n",
       "      <td>6.049157</td>\n",
       "      <td>28.822885</td>\n",
       "      <td>40.221845</td>\n",
       "      <td>26.948604</td>\n",
       "      <td>8.440041</td>\n",
       "      <td>0.998419</td>\n",
       "      <td>0.914331</td>\n",
       "      <td>1.673915</td>\n",
       "    </tr>\n",
       "    <tr>\n",
       "      <th>4</th>\n",
       "      <td>0</td>\n",
       "      <td>227727.0</td>\n",
       "      <td>2917.248904</td>\n",
       "      <td>1324</td>\n",
       "      <td>286</td>\n",
       "      <td>4.629371</td>\n",
       "      <td>1.662798</td>\n",
       "      <td>37.370804</td>\n",
       "      <td>8.992028</td>\n",
       "      <td>16.671171</td>\n",
       "      <td>6.294281</td>\n",
       "      <td>30.967158</td>\n",
       "      <td>45.040192</td>\n",
       "      <td>28.595326</td>\n",
       "      <td>8.641438</td>\n",
       "      <td>0.998568</td>\n",
       "      <td>0.898644</td>\n",
       "      <td>1.968082</td>\n",
       "    </tr>\n",
       "  </tbody>\n",
       "</table>\n",
       "</div>"
      ],
      "text/plain": [
       "   Unnamed: 0      area    perimeter  physiological_length  \\\n",
       "0           0  197484.0  3479.036038                  1416   \n",
       "1           0  101248.0  2490.381812                  1190   \n",
       "2           0   86570.5  2290.683327                  1095   \n",
       "3           0  190214.0  2856.479353                  1318   \n",
       "4           0  227727.0  2917.248904                  1324   \n",
       "\n",
       "   physiological_width  aspect_ratio  rectangularity  circularity    mean_r  \\\n",
       "0                  759      1.865613        5.442183    61.289480  6.395667   \n",
       "1                  130      9.153846        1.527931    61.255546  7.049316   \n",
       "2                  119      9.201681        1.505189    60.612219  3.434303   \n",
       "3                  254      5.188976        1.759976    42.896287  7.670415   \n",
       "4                  286      4.629371        1.662798    37.370804  8.992028   \n",
       "\n",
       "      mean_g     mean_b   stddev_r   stddev_g   stddev_b   contrast  \\\n",
       "0  13.643413   4.388007  24.025329  40.200931  21.448412  12.639656   \n",
       "1   9.232018  10.876066  33.816205  37.382221  46.479230   8.137424   \n",
       "2   6.371511   2.644757  19.975699  29.057374  19.275050   8.553729   \n",
       "3  13.303599   6.049157  28.822885  40.221845  26.948604   8.440041   \n",
       "4  16.671171   6.294281  30.967158  45.040192  28.595326   8.641438   \n",
       "\n",
       "   correlation  inverse_difference_moments   entropy  \n",
       "0     0.997666                    0.911738  1.688689  \n",
       "1     0.997191                    0.944818  1.193795  \n",
       "2     0.996610                    0.959023  0.848758  \n",
       "3     0.998419                    0.914331  1.673915  \n",
       "4     0.998568                    0.898644  1.968082  "
      ]
     },
     "execution_count": 3,
     "metadata": {},
     "output_type": "execute_result"
    }
   ],
   "source": [
    "dataset.head(5)"
   ]
  },
  {
   "cell_type": "code",
   "execution_count": 4,
   "metadata": {},
   "outputs": [
    {
     "data": {
      "text/plain": [
       "pandas.core.frame.DataFrame"
      ]
     },
     "execution_count": 4,
     "metadata": {},
     "output_type": "execute_result"
    }
   ],
   "source": [
    "type(dataset)"
   ]
  },
  {
   "cell_type": "code",
   "execution_count": 5,
   "metadata": {},
   "outputs": [],
   "source": [
    "maindir = r'C:\\Users\\sroy\\Downloads\\Flavia_leaves'\n",
    "ds_path = maindir \n",
    "img_files = os.listdir(ds_path)"
   ]
  },
  {
   "cell_type": "markdown",
   "metadata": {},
   "source": [
    "### Creating target labels\n",
    "\n",
    "Breakpoints are used alongside the image file to create a vector of target labels. The breakpoints are specified in Flavia leaves dataset website."
   ]
  },
  {
   "cell_type": "code",
   "execution_count": 6,
   "metadata": {},
   "outputs": [],
   "source": [
    "breakpoints = [1001,1059,1060,1122,1552,1616,1123,1194,1195,1267,1268,1323,1324,1385,1386,1437,1497,1551,1438,1496,2001,2050,2051,2113,2114,2165,2166,2230,2231,2290,2291,2346,2347,2423,2424,2485,2486,2546,2547,2612,2616,2675,3001,3055,3056,3110,3111,3175,3176,3229,3230,3281,3282,3334,3335,3389,3390,3446,3447,3510,3511,3563,3566,3621]"
   ]
  },
  {
   "cell_type": "code",
   "execution_count": 7,
   "metadata": {},
   "outputs": [],
   "source": [
    "target_list = []\n",
    "for file in img_files:\n",
    "    target_num = int(file.split(\".\")[0])\n",
    "    flag = 0\n",
    "    i = 0 \n",
    "    for i in range(0,len(breakpoints),2):\n",
    "        if((target_num >= breakpoints[i]) and (target_num <= breakpoints[i+1])):\n",
    "            flag = 1\n",
    "            break\n",
    "    if(flag==1):\n",
    "        target = int((i/2))\n",
    "        target_list.append(target)"
   ]
  },
  {
   "cell_type": "code",
   "execution_count": 8,
   "metadata": {},
   "outputs": [
    {
     "data": {
      "text/plain": [
       "array([ 0,  0,  0, ..., 31, 31, 31])"
      ]
     },
     "execution_count": 8,
     "metadata": {},
     "output_type": "execute_result"
    }
   ],
   "source": [
    "y = np.array(target_list)\n",
    "y"
   ]
  },
  {
   "cell_type": "code",
   "execution_count": 9,
   "metadata": {},
   "outputs": [],
   "source": [
    "X = dataset.iloc[:,1:]"
   ]
  },
  {
   "cell_type": "code",
   "execution_count": 10,
   "metadata": {},
   "outputs": [
    {
     "data": {
      "text/html": [
       "<div>\n",
       "<style scoped>\n",
       "    .dataframe tbody tr th:only-of-type {\n",
       "        vertical-align: middle;\n",
       "    }\n",
       "\n",
       "    .dataframe tbody tr th {\n",
       "        vertical-align: top;\n",
       "    }\n",
       "\n",
       "    .dataframe thead th {\n",
       "        text-align: right;\n",
       "    }\n",
       "</style>\n",
       "<table border=\"1\" class=\"dataframe\">\n",
       "  <thead>\n",
       "    <tr style=\"text-align: right;\">\n",
       "      <th></th>\n",
       "      <th>area</th>\n",
       "      <th>perimeter</th>\n",
       "      <th>physiological_length</th>\n",
       "      <th>physiological_width</th>\n",
       "      <th>aspect_ratio</th>\n",
       "      <th>rectangularity</th>\n",
       "      <th>circularity</th>\n",
       "      <th>mean_r</th>\n",
       "      <th>mean_g</th>\n",
       "      <th>mean_b</th>\n",
       "      <th>stddev_r</th>\n",
       "      <th>stddev_g</th>\n",
       "      <th>stddev_b</th>\n",
       "      <th>contrast</th>\n",
       "      <th>correlation</th>\n",
       "      <th>inverse_difference_moments</th>\n",
       "      <th>entropy</th>\n",
       "    </tr>\n",
       "  </thead>\n",
       "  <tbody>\n",
       "    <tr>\n",
       "      <th>0</th>\n",
       "      <td>197484.0</td>\n",
       "      <td>3479.036038</td>\n",
       "      <td>1416</td>\n",
       "      <td>759</td>\n",
       "      <td>1.865613</td>\n",
       "      <td>5.442183</td>\n",
       "      <td>61.289480</td>\n",
       "      <td>6.395667</td>\n",
       "      <td>13.643413</td>\n",
       "      <td>4.388007</td>\n",
       "      <td>24.025329</td>\n",
       "      <td>40.200931</td>\n",
       "      <td>21.448412</td>\n",
       "      <td>12.639656</td>\n",
       "      <td>0.997666</td>\n",
       "      <td>0.911738</td>\n",
       "      <td>1.688689</td>\n",
       "    </tr>\n",
       "    <tr>\n",
       "      <th>1</th>\n",
       "      <td>101248.0</td>\n",
       "      <td>2490.381812</td>\n",
       "      <td>1190</td>\n",
       "      <td>130</td>\n",
       "      <td>9.153846</td>\n",
       "      <td>1.527931</td>\n",
       "      <td>61.255546</td>\n",
       "      <td>7.049316</td>\n",
       "      <td>9.232018</td>\n",
       "      <td>10.876066</td>\n",
       "      <td>33.816205</td>\n",
       "      <td>37.382221</td>\n",
       "      <td>46.479230</td>\n",
       "      <td>8.137424</td>\n",
       "      <td>0.997191</td>\n",
       "      <td>0.944818</td>\n",
       "      <td>1.193795</td>\n",
       "    </tr>\n",
       "    <tr>\n",
       "      <th>2</th>\n",
       "      <td>86570.5</td>\n",
       "      <td>2290.683327</td>\n",
       "      <td>1095</td>\n",
       "      <td>119</td>\n",
       "      <td>9.201681</td>\n",
       "      <td>1.505189</td>\n",
       "      <td>60.612219</td>\n",
       "      <td>3.434303</td>\n",
       "      <td>6.371511</td>\n",
       "      <td>2.644757</td>\n",
       "      <td>19.975699</td>\n",
       "      <td>29.057374</td>\n",
       "      <td>19.275050</td>\n",
       "      <td>8.553729</td>\n",
       "      <td>0.996610</td>\n",
       "      <td>0.959023</td>\n",
       "      <td>0.848758</td>\n",
       "    </tr>\n",
       "    <tr>\n",
       "      <th>3</th>\n",
       "      <td>190214.0</td>\n",
       "      <td>2856.479353</td>\n",
       "      <td>1318</td>\n",
       "      <td>254</td>\n",
       "      <td>5.188976</td>\n",
       "      <td>1.759976</td>\n",
       "      <td>42.896287</td>\n",
       "      <td>7.670415</td>\n",
       "      <td>13.303599</td>\n",
       "      <td>6.049157</td>\n",
       "      <td>28.822885</td>\n",
       "      <td>40.221845</td>\n",
       "      <td>26.948604</td>\n",
       "      <td>8.440041</td>\n",
       "      <td>0.998419</td>\n",
       "      <td>0.914331</td>\n",
       "      <td>1.673915</td>\n",
       "    </tr>\n",
       "    <tr>\n",
       "      <th>4</th>\n",
       "      <td>227727.0</td>\n",
       "      <td>2917.248904</td>\n",
       "      <td>1324</td>\n",
       "      <td>286</td>\n",
       "      <td>4.629371</td>\n",
       "      <td>1.662798</td>\n",
       "      <td>37.370804</td>\n",
       "      <td>8.992028</td>\n",
       "      <td>16.671171</td>\n",
       "      <td>6.294281</td>\n",
       "      <td>30.967158</td>\n",
       "      <td>45.040192</td>\n",
       "      <td>28.595326</td>\n",
       "      <td>8.641438</td>\n",
       "      <td>0.998568</td>\n",
       "      <td>0.898644</td>\n",
       "      <td>1.968082</td>\n",
       "    </tr>\n",
       "  </tbody>\n",
       "</table>\n",
       "</div>"
      ],
      "text/plain": [
       "       area    perimeter  physiological_length  physiological_width  \\\n",
       "0  197484.0  3479.036038                  1416                  759   \n",
       "1  101248.0  2490.381812                  1190                  130   \n",
       "2   86570.5  2290.683327                  1095                  119   \n",
       "3  190214.0  2856.479353                  1318                  254   \n",
       "4  227727.0  2917.248904                  1324                  286   \n",
       "\n",
       "   aspect_ratio  rectangularity  circularity    mean_r     mean_g     mean_b  \\\n",
       "0      1.865613        5.442183    61.289480  6.395667  13.643413   4.388007   \n",
       "1      9.153846        1.527931    61.255546  7.049316   9.232018  10.876066   \n",
       "2      9.201681        1.505189    60.612219  3.434303   6.371511   2.644757   \n",
       "3      5.188976        1.759976    42.896287  7.670415  13.303599   6.049157   \n",
       "4      4.629371        1.662798    37.370804  8.992028  16.671171   6.294281   \n",
       "\n",
       "    stddev_r   stddev_g   stddev_b   contrast  correlation  \\\n",
       "0  24.025329  40.200931  21.448412  12.639656     0.997666   \n",
       "1  33.816205  37.382221  46.479230   8.137424     0.997191   \n",
       "2  19.975699  29.057374  19.275050   8.553729     0.996610   \n",
       "3  28.822885  40.221845  26.948604   8.440041     0.998419   \n",
       "4  30.967158  45.040192  28.595326   8.641438     0.998568   \n",
       "\n",
       "   inverse_difference_moments   entropy  \n",
       "0                    0.911738  1.688689  \n",
       "1                    0.944818  1.193795  \n",
       "2                    0.959023  0.848758  \n",
       "3                    0.914331  1.673915  \n",
       "4                    0.898644  1.968082  "
      ]
     },
     "execution_count": 10,
     "metadata": {},
     "output_type": "execute_result"
    }
   ],
   "source": [
    "X.head(5)"
   ]
  },
  {
   "cell_type": "code",
   "execution_count": 11,
   "metadata": {},
   "outputs": [
    {
     "data": {
      "text/plain": [
       "array([0, 0, 0, 0, 0])"
      ]
     },
     "execution_count": 11,
     "metadata": {},
     "output_type": "execute_result"
    }
   ],
   "source": [
    "y[0:5]"
   ]
  },
  {
   "cell_type": "markdown",
   "metadata": {},
   "source": [
    "### Train test split"
   ]
  },
  {
   "cell_type": "code",
   "execution_count": 12,
   "metadata": {},
   "outputs": [],
   "source": [
    "from sklearn.model_selection import train_test_split"
   ]
  },
  {
   "cell_type": "code",
   "execution_count": 13,
   "metadata": {},
   "outputs": [],
   "source": [
    "X_train, X_test, y_train, y_test = train_test_split(X, y, test_size=0.1, random_state = 142)"
   ]
  },
  {
   "cell_type": "code",
   "execution_count": 14,
   "metadata": {},
   "outputs": [
    {
     "data": {
      "text/html": [
       "<div>\n",
       "<style scoped>\n",
       "    .dataframe tbody tr th:only-of-type {\n",
       "        vertical-align: middle;\n",
       "    }\n",
       "\n",
       "    .dataframe tbody tr th {\n",
       "        vertical-align: top;\n",
       "    }\n",
       "\n",
       "    .dataframe thead th {\n",
       "        text-align: right;\n",
       "    }\n",
       "</style>\n",
       "<table border=\"1\" class=\"dataframe\">\n",
       "  <thead>\n",
       "    <tr style=\"text-align: right;\">\n",
       "      <th></th>\n",
       "      <th>area</th>\n",
       "      <th>perimeter</th>\n",
       "      <th>physiological_length</th>\n",
       "      <th>physiological_width</th>\n",
       "      <th>aspect_ratio</th>\n",
       "      <th>rectangularity</th>\n",
       "      <th>circularity</th>\n",
       "      <th>mean_r</th>\n",
       "      <th>mean_g</th>\n",
       "      <th>mean_b</th>\n",
       "      <th>stddev_r</th>\n",
       "      <th>stddev_g</th>\n",
       "      <th>stddev_b</th>\n",
       "      <th>contrast</th>\n",
       "      <th>correlation</th>\n",
       "      <th>inverse_difference_moments</th>\n",
       "      <th>entropy</th>\n",
       "    </tr>\n",
       "  </thead>\n",
       "  <tbody>\n",
       "    <tr>\n",
       "      <th>629</th>\n",
       "      <td>912740.5</td>\n",
       "      <td>4059.430918</td>\n",
       "      <td>1543</td>\n",
       "      <td>866</td>\n",
       "      <td>1.781755</td>\n",
       "      <td>1.463985</td>\n",
       "      <td>18.054397</td>\n",
       "      <td>46.759404</td>\n",
       "      <td>81.241441</td>\n",
       "      <td>38.431258</td>\n",
       "      <td>52.121761</td>\n",
       "      <td>84.993401</td>\n",
       "      <td>43.139605</td>\n",
       "      <td>29.704972</td>\n",
       "      <td>0.996161</td>\n",
       "      <td>0.610872</td>\n",
       "      <td>6.538888</td>\n",
       "    </tr>\n",
       "    <tr>\n",
       "      <th>1470</th>\n",
       "      <td>567854.5</td>\n",
       "      <td>3780.224858</td>\n",
       "      <td>1455</td>\n",
       "      <td>851</td>\n",
       "      <td>1.709753</td>\n",
       "      <td>2.180497</td>\n",
       "      <td>25.165073</td>\n",
       "      <td>36.213163</td>\n",
       "      <td>58.353781</td>\n",
       "      <td>16.174034</td>\n",
       "      <td>56.923495</td>\n",
       "      <td>89.182996</td>\n",
       "      <td>30.612148</td>\n",
       "      <td>30.290917</td>\n",
       "      <td>0.993381</td>\n",
       "      <td>0.736363</td>\n",
       "      <td>4.432073</td>\n",
       "    </tr>\n",
       "    <tr>\n",
       "      <th>1442</th>\n",
       "      <td>490117.0</td>\n",
       "      <td>3963.379183</td>\n",
       "      <td>1437</td>\n",
       "      <td>979</td>\n",
       "      <td>1.467824</td>\n",
       "      <td>2.870382</td>\n",
       "      <td>32.050254</td>\n",
       "      <td>21.583651</td>\n",
       "      <td>41.708051</td>\n",
       "      <td>12.666303</td>\n",
       "      <td>39.732568</td>\n",
       "      <td>70.595669</td>\n",
       "      <td>27.615334</td>\n",
       "      <td>24.888205</td>\n",
       "      <td>0.996525</td>\n",
       "      <td>0.777871</td>\n",
       "      <td>3.755035</td>\n",
       "    </tr>\n",
       "    <tr>\n",
       "      <th>939</th>\n",
       "      <td>871301.5</td>\n",
       "      <td>4173.964972</td>\n",
       "      <td>1467</td>\n",
       "      <td>1054</td>\n",
       "      <td>1.391841</td>\n",
       "      <td>1.774607</td>\n",
       "      <td>19.995356</td>\n",
       "      <td>170.773242</td>\n",
       "      <td>212.616986</td>\n",
       "      <td>154.904988</td>\n",
       "      <td>92.131250</td>\n",
       "      <td>47.842980</td>\n",
       "      <td>108.231622</td>\n",
       "      <td>39.531495</td>\n",
       "      <td>0.995567</td>\n",
       "      <td>0.618423</td>\n",
       "      <td>6.459081</td>\n",
       "    </tr>\n",
       "    <tr>\n",
       "      <th>30</th>\n",
       "      <td>288926.0</td>\n",
       "      <td>3759.123466</td>\n",
       "      <td>1434</td>\n",
       "      <td>990</td>\n",
       "      <td>1.448485</td>\n",
       "      <td>4.913576</td>\n",
       "      <td>48.908749</td>\n",
       "      <td>10.713851</td>\n",
       "      <td>21.426923</td>\n",
       "      <td>6.920931</td>\n",
       "      <td>30.420227</td>\n",
       "      <td>50.440174</td>\n",
       "      <td>26.000348</td>\n",
       "      <td>13.009087</td>\n",
       "      <td>0.998058</td>\n",
       "      <td>0.870985</td>\n",
       "      <td>2.389084</td>\n",
       "    </tr>\n",
       "  </tbody>\n",
       "</table>\n",
       "</div>"
      ],
      "text/plain": [
       "          area    perimeter  physiological_length  physiological_width  \\\n",
       "629   912740.5  4059.430918                  1543                  866   \n",
       "1470  567854.5  3780.224858                  1455                  851   \n",
       "1442  490117.0  3963.379183                  1437                  979   \n",
       "939   871301.5  4173.964972                  1467                 1054   \n",
       "30    288926.0  3759.123466                  1434                  990   \n",
       "\n",
       "      aspect_ratio  rectangularity  circularity      mean_r      mean_g  \\\n",
       "629       1.781755        1.463985    18.054397   46.759404   81.241441   \n",
       "1470      1.709753        2.180497    25.165073   36.213163   58.353781   \n",
       "1442      1.467824        2.870382    32.050254   21.583651   41.708051   \n",
       "939       1.391841        1.774607    19.995356  170.773242  212.616986   \n",
       "30        1.448485        4.913576    48.908749   10.713851   21.426923   \n",
       "\n",
       "          mean_b   stddev_r   stddev_g    stddev_b   contrast  correlation  \\\n",
       "629    38.431258  52.121761  84.993401   43.139605  29.704972     0.996161   \n",
       "1470   16.174034  56.923495  89.182996   30.612148  30.290917     0.993381   \n",
       "1442   12.666303  39.732568  70.595669   27.615334  24.888205     0.996525   \n",
       "939   154.904988  92.131250  47.842980  108.231622  39.531495     0.995567   \n",
       "30      6.920931  30.420227  50.440174   26.000348  13.009087     0.998058   \n",
       "\n",
       "      inverse_difference_moments   entropy  \n",
       "629                     0.610872  6.538888  \n",
       "1470                    0.736363  4.432073  \n",
       "1442                    0.777871  3.755035  \n",
       "939                     0.618423  6.459081  \n",
       "30                      0.870985  2.389084  "
      ]
     },
     "execution_count": 14,
     "metadata": {},
     "output_type": "execute_result"
    }
   ],
   "source": [
    "X_train.head(5)"
   ]
  },
  {
   "cell_type": "code",
   "execution_count": 15,
   "metadata": {},
   "outputs": [
    {
     "data": {
      "text/plain": [
       "array([10, 24, 23, 15,  0])"
      ]
     },
     "execution_count": 15,
     "metadata": {},
     "output_type": "execute_result"
    }
   ],
   "source": [
    "y_train[0:5]"
   ]
  },
  {
   "cell_type": "markdown",
   "metadata": {},
   "source": [
    "### Feature Scaling"
   ]
  },
  {
   "cell_type": "code",
   "execution_count": 16,
   "metadata": {},
   "outputs": [],
   "source": [
    "from sklearn.preprocessing import StandardScaler"
   ]
  },
  {
   "cell_type": "code",
   "execution_count": 17,
   "metadata": {},
   "outputs": [],
   "source": [
    "sc_X = StandardScaler()\n",
    "X_train = sc_X.fit_transform(X_train)\n",
    "X_test = sc_X.transform(X_test)"
   ]
  },
  {
   "cell_type": "code",
   "execution_count": 18,
   "metadata": {},
   "outputs": [
    {
     "data": {
      "text/plain": [
       "array([[ 1.17951086,  0.41908859,  0.95893888, -0.05726032,  0.29109268,\n",
       "        -0.33505159, -0.3720579 ,  0.2484849 ,  0.44475119,  0.2739034 ,\n",
       "         0.36493665,  0.88879664,  0.24455212,  0.08487814, -0.2628861 ,\n",
       "        -1.32214689,  1.27407462],\n",
       "       [-0.12580057,  0.05668431,  0.58769581, -0.12114765,  0.17216725,\n",
       "        -0.18030985, -0.21132054, -0.02119845, -0.05747975, -0.32046711,\n",
       "         0.65839856,  1.12986418, -0.36847358,  0.10656513, -1.57181703,\n",
       "        -0.07938825, -0.01994323]])"
      ]
     },
     "execution_count": 18,
     "metadata": {},
     "output_type": "execute_result"
    }
   ],
   "source": [
    "X_train[0:2]"
   ]
  },
  {
   "cell_type": "code",
   "execution_count": 19,
   "metadata": {},
   "outputs": [
    {
     "data": {
      "text/plain": [
       "array([10, 24])"
      ]
     },
     "execution_count": 19,
     "metadata": {},
     "output_type": "execute_result"
    }
   ],
   "source": [
    "y_train[0:2]"
   ]
  },
  {
   "cell_type": "markdown",
   "metadata": {},
   "source": [
    "### Applying SVM classifier model"
   ]
  },
  {
   "cell_type": "code",
   "execution_count": 20,
   "metadata": {},
   "outputs": [],
   "source": [
    "from sklearn import svm"
   ]
  },
  {
   "cell_type": "code",
   "execution_count": 21,
   "metadata": {},
   "outputs": [
    {
     "data": {
      "text/plain": [
       "SVC()"
      ]
     },
     "execution_count": 21,
     "metadata": {},
     "output_type": "execute_result"
    }
   ],
   "source": [
    "clf = svm.SVC()\n",
    "clf.fit(X_train,y_train)"
   ]
  },
  {
   "cell_type": "code",
   "execution_count": 22,
   "metadata": {},
   "outputs": [],
   "source": [
    "y_pred = clf.predict(X_test)"
   ]
  },
  {
   "cell_type": "code",
   "execution_count": 23,
   "metadata": {},
   "outputs": [],
   "source": [
    "from sklearn import metrics"
   ]
  },
  {
   "cell_type": "code",
   "execution_count": 24,
   "metadata": {},
   "outputs": [
    {
     "data": {
      "text/plain": [
       "0.8167539267015707"
      ]
     },
     "execution_count": 24,
     "metadata": {},
     "output_type": "execute_result"
    }
   ],
   "source": [
    "metrics.accuracy_score(y_test, y_pred)"
   ]
  },
  {
   "cell_type": "code",
   "execution_count": 25,
   "metadata": {},
   "outputs": [
    {
     "name": "stdout",
     "output_type": "stream",
     "text": [
      "              precision    recall  f1-score   support\n",
      "\n",
      "           0       1.00      0.30      0.46        10\n",
      "           1       0.43      0.50      0.46         6\n",
      "           2       0.83      0.83      0.83         6\n",
      "           3       0.86      1.00      0.92        12\n",
      "           4       1.00      1.00      1.00        12\n",
      "           5       0.86      1.00      0.92         6\n",
      "           6       0.86      1.00      0.92         6\n",
      "           7       0.50      1.00      0.67         1\n",
      "           8       0.00      0.00      0.00         1\n",
      "           9       1.00      1.00      1.00         6\n",
      "          10       0.20      1.00      0.33         1\n",
      "          11       1.00      0.40      0.57         5\n",
      "          12       0.25      0.50      0.33         2\n",
      "          13       1.00      0.67      0.80         6\n",
      "          14       0.75      0.75      0.75         4\n",
      "          15       0.67      0.40      0.50         5\n",
      "          16       1.00      1.00      1.00         7\n",
      "          17       0.80      1.00      0.89         4\n",
      "          18       1.00      0.75      0.86        12\n",
      "          19       1.00      1.00      1.00         5\n",
      "          20       0.55      1.00      0.71         6\n",
      "          21       0.67      0.80      0.73         5\n",
      "          22       1.00      1.00      1.00         7\n",
      "          23       0.67      1.00      0.80         4\n",
      "          24       1.00      0.67      0.80         9\n",
      "          25       0.75      1.00      0.86         3\n",
      "          26       1.00      1.00      1.00         6\n",
      "          27       1.00      0.88      0.93         8\n",
      "          28       0.86      0.75      0.80         8\n",
      "          29       1.00      0.67      0.80         6\n",
      "          30       1.00      0.67      0.80         3\n",
      "          31       1.00      1.00      1.00         9\n",
      "\n",
      "    accuracy                           0.82       191\n",
      "   macro avg       0.80      0.80      0.76       191\n",
      "weighted avg       0.88      0.82      0.82       191\n",
      "\n"
     ]
    }
   ],
   "source": [
    "print(metrics.classification_report(y_test, y_pred))"
   ]
  },
  {
   "cell_type": "markdown",
   "metadata": {},
   "source": [
    "### Performing parameter tuning of the model"
   ]
  },
  {
   "cell_type": "code",
   "execution_count": 26,
   "metadata": {},
   "outputs": [],
   "source": [
    "from sklearn.model_selection import GridSearchCV"
   ]
  },
  {
   "cell_type": "code",
   "execution_count": 27,
   "metadata": {},
   "outputs": [],
   "source": [
    "parameters = [{'kernel': ['rbf'],\n",
    "               'gamma': [1e-4, 1e-3, 0.01, 0.1, 0.2, 0.5],\n",
    "               'C': [1, 10, 100, 1000]},\n",
    "              {'kernel': ['linear'], 'C': [1, 10, 100, 1000]}\n",
    "             ]"
   ]
  },
  {
   "cell_type": "code",
   "execution_count": 28,
   "metadata": {},
   "outputs": [
    {
     "data": {
      "text/plain": [
       "GridSearchCV(cv=5, estimator=SVC(),\n",
       "             param_grid=[{'C': [1, 10, 100, 1000],\n",
       "                          'gamma': [0.0001, 0.001, 0.01, 0.1, 0.2, 0.5],\n",
       "                          'kernel': ['rbf']},\n",
       "                         {'C': [1, 10, 100, 1000], 'kernel': ['linear']}])"
      ]
     },
     "execution_count": 28,
     "metadata": {},
     "output_type": "execute_result"
    }
   ],
   "source": [
    "svm_clf = GridSearchCV(svm.SVC(decision_function_shape='ovr'), parameters, cv=5)\n",
    "svm_clf.fit(X_train, y_train)"
   ]
  },
  {
   "cell_type": "code",
   "execution_count": 29,
   "metadata": {},
   "outputs": [
    {
     "data": {
      "text/plain": [
       "{'C': 1000, 'kernel': 'linear'}"
      ]
     },
     "execution_count": 29,
     "metadata": {},
     "output_type": "execute_result"
    }
   ],
   "source": [
    "svm_clf.best_params_"
   ]
  },
  {
   "cell_type": "code",
   "execution_count": 30,
   "metadata": {},
   "outputs": [
    {
     "name": "stdout",
     "output_type": "stream",
     "text": [
      "0.041 (+/-0.000) for {'C': 1, 'gamma': 0.0001, 'kernel': 'rbf'}\n",
      "0.217 (+/-0.014) for {'C': 1, 'gamma': 0.001, 'kernel': 'rbf'}\n",
      "0.639 (+/-0.042) for {'C': 1, 'gamma': 0.01, 'kernel': 'rbf'}\n",
      "0.844 (+/-0.032) for {'C': 1, 'gamma': 0.1, 'kernel': 'rbf'}\n",
      "0.861 (+/-0.024) for {'C': 1, 'gamma': 0.2, 'kernel': 'rbf'}\n",
      "0.872 (+/-0.020) for {'C': 1, 'gamma': 0.5, 'kernel': 'rbf'}\n",
      "0.220 (+/-0.010) for {'C': 10, 'gamma': 0.0001, 'kernel': 'rbf'}\n",
      "0.646 (+/-0.045) for {'C': 10, 'gamma': 0.001, 'kernel': 'rbf'}\n",
      "0.852 (+/-0.030) for {'C': 10, 'gamma': 0.01, 'kernel': 'rbf'}\n",
      "0.903 (+/-0.019) for {'C': 10, 'gamma': 0.1, 'kernel': 'rbf'}\n",
      "0.900 (+/-0.029) for {'C': 10, 'gamma': 0.2, 'kernel': 'rbf'}\n",
      "0.880 (+/-0.016) for {'C': 10, 'gamma': 0.5, 'kernel': 'rbf'}\n",
      "0.650 (+/-0.040) for {'C': 100, 'gamma': 0.0001, 'kernel': 'rbf'}\n",
      "0.841 (+/-0.027) for {'C': 100, 'gamma': 0.001, 'kernel': 'rbf'}\n",
      "0.906 (+/-0.024) for {'C': 100, 'gamma': 0.01, 'kernel': 'rbf'}\n",
      "0.900 (+/-0.031) for {'C': 100, 'gamma': 0.1, 'kernel': 'rbf'}\n",
      "0.888 (+/-0.028) for {'C': 100, 'gamma': 0.2, 'kernel': 'rbf'}\n",
      "0.885 (+/-0.017) for {'C': 100, 'gamma': 0.5, 'kernel': 'rbf'}\n",
      "0.838 (+/-0.029) for {'C': 1000, 'gamma': 0.0001, 'kernel': 'rbf'}\n",
      "0.895 (+/-0.020) for {'C': 1000, 'gamma': 0.001, 'kernel': 'rbf'}\n",
      "0.914 (+/-0.028) for {'C': 1000, 'gamma': 0.01, 'kernel': 'rbf'}\n",
      "0.903 (+/-0.022) for {'C': 1000, 'gamma': 0.1, 'kernel': 'rbf'}\n",
      "0.890 (+/-0.025) for {'C': 1000, 'gamma': 0.2, 'kernel': 'rbf'}\n",
      "0.885 (+/-0.015) for {'C': 1000, 'gamma': 0.5, 'kernel': 'rbf'}\n",
      "0.887 (+/-0.017) for {'C': 1, 'kernel': 'linear'}\n",
      "0.904 (+/-0.030) for {'C': 10, 'kernel': 'linear'}\n",
      "0.918 (+/-0.019) for {'C': 100, 'kernel': 'linear'}\n",
      "0.920 (+/-0.022) for {'C': 1000, 'kernel': 'linear'}\n"
     ]
    }
   ],
   "source": [
    "means = svm_clf.cv_results_['mean_test_score']\n",
    "stds = svm_clf.cv_results_['std_test_score']\n",
    "for mean, std, params in zip(means, stds, svm_clf.cv_results_['params']):\n",
    "    print(\"%0.3f (+/-%0.03f) for %r\" % (mean, std * 2, params))"
   ]
  },
  {
   "cell_type": "code",
   "execution_count": 31,
   "metadata": {},
   "outputs": [],
   "source": [
    "y_pred_svm = svm_clf.predict(X_test)"
   ]
  },
  {
   "cell_type": "code",
   "execution_count": 32,
   "metadata": {},
   "outputs": [
    {
     "data": {
      "text/plain": [
       "0.9057591623036649"
      ]
     },
     "execution_count": 32,
     "metadata": {},
     "output_type": "execute_result"
    }
   ],
   "source": [
    "metrics.accuracy_score(y_test, y_pred_svm)"
   ]
  },
  {
   "cell_type": "code",
   "execution_count": 33,
   "metadata": {},
   "outputs": [
    {
     "name": "stdout",
     "output_type": "stream",
     "text": [
      "              precision    recall  f1-score   support\n",
      "\n",
      "           0       1.00      0.90      0.95        10\n",
      "           1       0.67      0.67      0.67         6\n",
      "           2       1.00      1.00      1.00         6\n",
      "           3       1.00      1.00      1.00        12\n",
      "           4       1.00      1.00      1.00        12\n",
      "           5       0.86      1.00      0.92         6\n",
      "           6       0.86      1.00      0.92         6\n",
      "           7       1.00      1.00      1.00         1\n",
      "           8       0.00      0.00      0.00         1\n",
      "           9       1.00      1.00      1.00         6\n",
      "          10       0.00      0.00      0.00         1\n",
      "          11       0.43      0.60      0.50         5\n",
      "          12       1.00      0.50      0.67         2\n",
      "          13       1.00      0.83      0.91         6\n",
      "          14       0.60      0.75      0.67         4\n",
      "          15       1.00      0.60      0.75         5\n",
      "          16       1.00      1.00      1.00         7\n",
      "          17       1.00      1.00      1.00         4\n",
      "          18       0.92      1.00      0.96        12\n",
      "          19       1.00      1.00      1.00         5\n",
      "          20       1.00      1.00      1.00         6\n",
      "          21       0.83      1.00      0.91         5\n",
      "          22       1.00      1.00      1.00         7\n",
      "          23       0.80      1.00      0.89         4\n",
      "          24       1.00      0.78      0.88         9\n",
      "          25       0.75      1.00      0.86         3\n",
      "          26       1.00      1.00      1.00         6\n",
      "          27       1.00      1.00      1.00         8\n",
      "          28       0.86      0.75      0.80         8\n",
      "          29       1.00      1.00      1.00         6\n",
      "          30       1.00      1.00      1.00         3\n",
      "          31       1.00      0.78      0.88         9\n",
      "\n",
      "    accuracy                           0.91       191\n",
      "   macro avg       0.86      0.85      0.85       191\n",
      "weighted avg       0.92      0.91      0.91       191\n",
      "\n"
     ]
    }
   ],
   "source": [
    "print(metrics.classification_report(y_test, y_pred_svm))"
   ]
  },
  {
   "cell_type": "markdown",
   "metadata": {},
   "source": [
    "### Dimensionality Reduction using PCA"
   ]
  },
  {
   "cell_type": "code",
   "execution_count": 34,
   "metadata": {},
   "outputs": [],
   "source": [
    "from sklearn.decomposition import PCA"
   ]
  },
  {
   "cell_type": "code",
   "execution_count": 35,
   "metadata": {},
   "outputs": [],
   "source": [
    "pca = PCA()"
   ]
  },
  {
   "cell_type": "code",
   "execution_count": 36,
   "metadata": {},
   "outputs": [
    {
     "data": {
      "text/plain": [
       "PCA()"
      ]
     },
     "execution_count": 36,
     "metadata": {},
     "output_type": "execute_result"
    }
   ],
   "source": [
    "pca.fit(X)"
   ]
  },
  {
   "cell_type": "code",
   "execution_count": 37,
   "metadata": {},
   "outputs": [
    {
     "data": {
      "text/plain": [
       "array([9.99992897e-01, 6.41437085e-06, 3.92824599e-07, 2.08042088e-07,\n",
       "       6.15522995e-08, 1.38782111e-08, 8.94933506e-09, 2.51990655e-09,\n",
       "       8.66436338e-10, 2.10139778e-10, 1.07067132e-10, 1.32410441e-11,\n",
       "       2.22566990e-12, 1.41983601e-12, 5.16456146e-13, 3.39145452e-15,\n",
       "       1.00669705e-17])"
      ]
     },
     "execution_count": 37,
     "metadata": {},
     "output_type": "execute_result"
    }
   ],
   "source": [
    "var= pca.explained_variance_ratio_\n",
    "var"
   ]
  },
  {
   "cell_type": "code",
   "execution_count": 38,
   "metadata": {},
   "outputs": [],
   "source": [
    "import matplotlib.pyplot as plt\n",
    "%matplotlib inline"
   ]
  },
  {
   "cell_type": "code",
   "execution_count": 39,
   "metadata": {},
   "outputs": [
    {
     "data": {
      "text/plain": [
       "[<matplotlib.lines.Line2D at 0x240b969f910>]"
      ]
     },
     "execution_count": 39,
     "metadata": {},
     "output_type": "execute_result"
    },
    {
     "data": {
      "image/png": "[encoded data removed]",
      "text/plain": [
       "<Figure size 432x288 with 1 Axes>"
      ]
     },
     "metadata": {
      "needs_background": "light"
     },
     "output_type": "display_data"
    }
   ],
   "source": [
    "var1=np.cumsum(np.round(pca.explained_variance_ratio_, decimals=4)*100)\n",
    "plt.plot(var1)"
   ]
  },
  {
   "cell_type": "markdown",
   "metadata": {},
   "source": [
    "### Testing "
   ]
  },
  {
   "cell_type": "code",
   "execution_count": 40,
   "metadata": {},
   "outputs": [],
   "source": [
    "import os\n",
    "import cv2"
   ]
  },
  {
   "cell_type": "code",
   "execution_count": 41,
   "metadata": {},
   "outputs": [],
   "source": [
    "def bg_sub(filename):\n",
    "    test_img_path = filename\n",
    "    main_img = cv2.imread(test_img_path)\n",
    "    img = cv2.cvtColor(main_img, cv2.COLOR_BGR2RGB)\n",
    "    resized_image = cv2.resize(img, (1600, 1200))\n",
    "    size_y,size_x,_ = img.shape\n",
    "    gs = cv2.cvtColor(resized_image,cv2.COLOR_RGB2GRAY)\n",
    "    blur = cv2.GaussianBlur(gs, (55,55),0)\n",
    "    ret_otsu,im_bw_otsu = cv2.threshold(blur,0,255,cv2.THRESH_BINARY_INV+cv2.THRESH_OTSU)\n",
    "    kernel = np.ones((50,50),np.uint8)\n",
    "    closing = cv2.morphologyEx(im_bw_otsu, cv2.MORPH_CLOSE, kernel)\n",
    "    \n",
    "    contours, hierarchy = cv2.findContours(closing,cv2.RETR_TREE,cv2.CHAIN_APPROX_SIMPLE)\n",
    "    \n",
    "    contains = []\n",
    "    y_ri,x_ri, _ = resized_image.shape\n",
    "    for cc in contours:\n",
    "        yn = cv2.pointPolygonTest(cc,(x_ri//2,y_ri//2),False)\n",
    "        contains.append(yn)\n",
    "\n",
    "    val = [contains.index(temp) for temp in contains if temp>0]\n",
    "    index = val[0]\n",
    "    \n",
    "    black_img = np.empty([1200,1600,3],dtype=np.uint8)\n",
    "    black_img.fill(0)\n",
    "    \n",
    "    cnt = contours[index]\n",
    "    mask = cv2.drawContours(black_img, [cnt] , 0, (255,255,255), -1)\n",
    "    \n",
    "    maskedImg = cv2.bitwise_and(resized_image, mask)\n",
    "    white_pix = [255,255,255]\n",
    "    black_pix = [0,0,0]\n",
    "    \n",
    "    final_img = maskedImg\n",
    "    h,w,channels = final_img.shape\n",
    "    for x in range(0,w):\n",
    "        for y in range(0,h):\n",
    "            channels_xy = final_img[y,x]\n",
    "            if all(channels_xy == black_pix):\n",
    "                final_img[y,x] = white_pix\n",
    "    \n",
    "    return final_img"
   ]
  },
  {
   "cell_type": "code",
   "execution_count": 42,
   "metadata": {},
   "outputs": [],
   "source": [
    "filename = r'C:\\Users\\sroy\\Downloads\\CNN_test\\1.jpg' \n",
    "bg_rem_img = bg_sub(filename)"
   ]
  },
  {
   "cell_type": "code",
   "execution_count": 43,
   "metadata": {},
   "outputs": [
    {
     "data": {
      "text/plain": [
       "<matplotlib.image.AxesImage at 0x240b9c22d00>"
      ]
     },
     "execution_count": 43,
     "metadata": {},
     "output_type": "execute_result"
    },
    {
     "data": {
      "image/png": "[encoded data removed]",
      "text/plain": [
       "<Figure size 432x288 with 1 Axes>"
      ]
     },
     "metadata": {
      "needs_background": "light"
     },
     "output_type": "display_data"
    }
   ],
   "source": [
    "plt.imshow(bg_rem_img)"
   ]
  },
  {
   "cell_type": "code",
   "execution_count": 44,
   "metadata": {},
   "outputs": [
    {
     "name": "stdout",
     "output_type": "stream",
     "text": [
      "Requirement already satisfied: mahotas in c:\\users\\sroy\\anaconda3\\lib\\site-packages (1.4.11)\n",
      "Requirement already satisfied: numpy in c:\\users\\sroy\\anaconda3\\lib\\site-packages (from mahotas) (1.19.5)\n"
     ]
    }
   ],
   "source": [
    "!pip install mahotas\n",
    "import mahotas as mt"
   ]
  },
  {
   "cell_type": "code",
   "execution_count": 45,
   "metadata": {},
   "outputs": [],
   "source": [
    "def feature_extract(imgpath):\n",
    "    names = ['area','perimeter','physiological_length','physiological_width','aspect_ratio','rectangularity','circularity', \\\n",
    "             'mean_r','mean_g','mean_b','stddev_r','stddev_g','stddev_b', \\\n",
    "             'contrast','correlation','inverse_difference_moments','entropy'\n",
    "            ]\n",
    "    df = pd.DataFrame([], columns=names)\n",
    "    print(imgpath)\n",
    "    main_img = cv2.imread(imgpath)\n",
    "    \n",
    "    #Preprocessing\n",
    "    img = cv2.cvtColor(main_img, cv2.COLOR_BGR2RGB)\n",
    "    gs = cv2.cvtColor(img,cv2.COLOR_RGB2GRAY)\n",
    "    blur = cv2.GaussianBlur(gs, (25,25),0)\n",
    "    ret_otsu,im_bw_otsu = cv2.threshold(blur,0,255,cv2.THRESH_BINARY_INV+cv2.THRESH_OTSU)\n",
    "    kernel = np.ones((50,50),np.uint8)\n",
    "    closing = cv2.morphologyEx(im_bw_otsu, cv2.MORPH_CLOSE, kernel)\n",
    "        \n",
    "    #Shape features\n",
    "    contours, image = cv2.findContours(closing,cv2.RETR_TREE,cv2.CHAIN_APPROX_SIMPLE)\n",
    "    cnt = contours[0]\n",
    "    M = cv2.moments(cnt)\n",
    "    area = cv2.contourArea(cnt)\n",
    "    perimeter = cv2.arcLength(cnt,True)\n",
    "    x,y,w,h = cv2.boundingRect(cnt)\n",
    "    aspect_ratio = float(w)/h\n",
    "    rectangularity = w*h/area\n",
    "    circularity = ((perimeter)**2)/area\n",
    "        \n",
    "    #Color features\n",
    "    red_channel = img[:,:,0]\n",
    "    green_channel = img[:,:,1]\n",
    "    blue_channel = img[:,:,2]\n",
    "    blue_channel[blue_channel == 255] = 0\n",
    "    green_channel[green_channel == 255] = 0\n",
    "    red_channel[red_channel == 255] = 0\n",
    "        \n",
    "    red_mean = np.mean(red_channel)\n",
    "    green_mean = np.mean(green_channel)\n",
    "    blue_mean = np.mean(blue_channel)\n",
    "        \n",
    "    red_std = np.std(red_channel)\n",
    "    green_std = np.std(green_channel)\n",
    "    blue_std = np.std(blue_channel)\n",
    "        \n",
    "    #Texture features\n",
    "    textures = mt.features.haralick(gs)\n",
    "    ht_mean = textures.mean(axis=0)\n",
    "    contrast = ht_mean[1]\n",
    "    correlation = ht_mean[2]\n",
    "    inverse_diff_moments = ht_mean[4]\n",
    "    entropy = ht_mean[8]\n",
    "        \n",
    "    vector = [area,perimeter,w,h,aspect_ratio,rectangularity,circularity,\\\n",
    "                  red_mean,green_mean,blue_mean,red_std,green_std,blue_std,\\\n",
    "                  contrast,correlation,inverse_diff_moments,entropy\n",
    "                 ]\n",
    "        \n",
    "    df_temp = pd.DataFrame([vector],columns=names)\n",
    "    df = df.append(df_temp)\n",
    "    return df"
   ]
  },
  {
   "cell_type": "markdown",
   "metadata": {},
   "source": [
    "# Testing classification using test images"
   ]
  },
  {
   "cell_type": "code",
   "execution_count": 59,
   "metadata": {},
   "outputs": [
    {
     "name": "stdout",
     "output_type": "stream",
     "text": [
      "C:\\Users\\sroy\\Downloads\\CNN_test\\5.jpg\n"
     ]
    },
    {
     "data": {
      "text/html": [
       "<div>\n",
       "<style scoped>\n",
       "    .dataframe tbody tr th:only-of-type {\n",
       "        vertical-align: middle;\n",
       "    }\n",
       "\n",
       "    .dataframe tbody tr th {\n",
       "        vertical-align: top;\n",
       "    }\n",
       "\n",
       "    .dataframe thead th {\n",
       "        text-align: right;\n",
       "    }\n",
       "</style>\n",
       "<table border=\"1\" class=\"dataframe\">\n",
       "  <thead>\n",
       "    <tr style=\"text-align: right;\">\n",
       "      <th></th>\n",
       "      <th>area</th>\n",
       "      <th>perimeter</th>\n",
       "      <th>physiological_length</th>\n",
       "      <th>physiological_width</th>\n",
       "      <th>aspect_ratio</th>\n",
       "      <th>rectangularity</th>\n",
       "      <th>circularity</th>\n",
       "      <th>mean_r</th>\n",
       "      <th>mean_g</th>\n",
       "      <th>mean_b</th>\n",
       "      <th>stddev_r</th>\n",
       "      <th>stddev_g</th>\n",
       "      <th>stddev_b</th>\n",
       "      <th>contrast</th>\n",
       "      <th>correlation</th>\n",
       "      <th>inverse_difference_moments</th>\n",
       "      <th>entropy</th>\n",
       "    </tr>\n",
       "  </thead>\n",
       "  <tbody>\n",
       "    <tr>\n",
       "      <th>0</th>\n",
       "      <td>1119903.5</td>\n",
       "      <td>4476.249244</td>\n",
       "      <td>1480</td>\n",
       "      <td>1110</td>\n",
       "      <td>1.333333</td>\n",
       "      <td>1.466912</td>\n",
       "      <td>17.891548</td>\n",
       "      <td>43.43513</td>\n",
       "      <td>75.447606</td>\n",
       "      <td>32.492944</td>\n",
       "      <td>46.943854</td>\n",
       "      <td>67.38619</td>\n",
       "      <td>40.281327</td>\n",
       "      <td>67.199202</td>\n",
       "      <td>0.994566</td>\n",
       "      <td>0.514096</td>\n",
       "      <td>8.107764</td>\n",
       "    </tr>\n",
       "  </tbody>\n",
       "</table>\n",
       "</div>"
      ],
      "text/plain": [
       "        area    perimeter physiological_length physiological_width  \\\n",
       "0  1119903.5  4476.249244                 1480                1110   \n",
       "\n",
       "   aspect_ratio  rectangularity  circularity    mean_r     mean_g     mean_b  \\\n",
       "0      1.333333        1.466912    17.891548  43.43513  75.447606  32.492944   \n",
       "\n",
       "    stddev_r  stddev_g   stddev_b   contrast  correlation  \\\n",
       "0  46.943854  67.38619  40.281327  67.199202     0.994566   \n",
       "\n",
       "   inverse_difference_moments   entropy  \n",
       "0                    0.514096  8.107764  "
      ]
     },
     "execution_count": 59,
     "metadata": {},
     "output_type": "execute_result"
    }
   ],
   "source": [
    "img= r'C:\\Users\\sroy\\Downloads\\CNN_test\\5.jpg'\n",
    "features_of_img = feature_extract(img)\n",
    "features_of_img"
   ]
  },
  {
   "cell_type": "code",
   "execution_count": 60,
   "metadata": {},
   "outputs": [
    {
     "name": "stdout",
     "output_type": "stream",
     "text": [
      "[[ 1.96  0.96  0.69  0.98 -0.45 -0.33 -0.38  0.16  0.32  0.12  0.05 -0.12\n",
      "   0.1   1.47 -1.01 -2.28  2.24]]\n"
     ]
    },
    {
     "data": {
      "text/plain": [
       "29"
      ]
     },
     "execution_count": 60,
     "metadata": {},
     "output_type": "execute_result"
    }
   ],
   "source": [
    "scaled_features = sc_X.transform(features_of_img)\n",
    "print(scaled_features)\n",
    "# y_pred_mobile = svm_clf.predict(features_of_img)\n",
    "y_pred_mobile = svm_clf.predict(scaled_features)\n",
    "y_pred_mobile[0]"
   ]
  },
  {
   "cell_type": "code",
   "execution_count": 61,
   "metadata": {},
   "outputs": [
    {
     "data": {
      "text/plain": [
       "'Canadian poplar'"
      ]
     },
     "execution_count": 61,
     "metadata": {},
     "output_type": "execute_result"
    }
   ],
   "source": [
    "common_names = ['pubescent bamboo','Chinese horse chestnut','Anhui Barberry', \\\n",
    "                'Chinese redbud','true indigo','Japanese maple','Nanmu',' castor aralia', \\\n",
    "                'Chinese cinnamon','goldenrain tree','Big-fruited Holly','Japanese cheesewood', \\\n",
    "                'wintersweet','camphortree','Japan Arrowwood','sweet osmanthus','deodar','ginkgo, maidenhair tree', \\\n",
    "                'Crape myrtle, Crepe myrtle','oleander','yew plum pine','Japanese Flowering Cherry','Glossy Privet',\\\n",
    "                'Chinese Toon','peach','Ford Woodlotus','trident maple','Beales barberry','southern magnolia',\\\n",
    "                'Canadian poplar','Chinese tulip tree','tangerine'\n",
    "               ]\n",
    "common_names[y_pred_mobile[0]]"
   ]
  },
  {
   "cell_type": "markdown",
   "metadata": {},
   "source": [
    "# Confusion Matrix"
   ]
  },
  {
   "cell_type": "code",
   "execution_count": 49,
   "metadata": {},
   "outputs": [
    {
     "name": "stdout",
     "output_type": "stream",
     "text": [
      "Confusion matrix, without normalization\n",
      "[[0 0 1 ... 0 0 0]\n",
      " [0 1 0 ... 0 0 0]\n",
      " [0 0 5 ... 0 0 0]\n",
      " ...\n",
      " [0 0 0 ... 3 0 0]\n",
      " [0 0 0 ... 0 1 0]\n",
      " [0 0 0 ... 0 0 7]]\n",
      "Normalized confusion matrix\n",
      "[[0.   0.   0.1  ... 0.   0.   0.  ]\n",
      " [0.   0.17 0.   ... 0.   0.   0.  ]\n",
      " [0.   0.   0.83 ... 0.   0.   0.  ]\n",
      " ...\n",
      " [0.   0.   0.   ... 0.5  0.   0.  ]\n",
      " [0.   0.   0.   ... 0.   0.33 0.  ]\n",
      " [0.   0.   0.   ... 0.   0.   0.78]]\n"
     ]
    },
    {
     "data": {
      "image/png": "[encoded data removed]",
      "text/plain": [
       "<Figure size 432x288 with 2 Axes>"
      ]
     },
     "metadata": {
      "needs_background": "light"
     },
     "output_type": "display_data"
    },
    {
     "data": {
      "image/png": "[encoded data removed]",
      "text/plain": [
       "<Figure size 1800x1800 with 2 Axes>"
      ]
     },
     "metadata": {
      "needs_background": "light"
     },
     "output_type": "display_data"
    }
   ],
   "source": [
    "import matplotlib.pyplot as plt\n",
    "import pandas as pd\n",
    "from sklearn.metrics import plot_confusion_matrix\n",
    "classifier = svm.SVC(kernel='linear', C=0.01).fit(X_train, y_train)\n",
    "np.set_printoptions(precision=2)\n",
    "\n",
    "# Plot non-normalized confusion matrix\n",
    "titles_options = [(\"Confusion matrix, without normalization\", None),\n",
    "                  (\"Normalized confusion matrix\", 'true')]\n",
    "for title, normalize in titles_options:\n",
    "    disp = plot_confusion_matrix(classifier, X_test, y_test,\n",
    "                                 display_labels=common_names,\n",
    "                                 cmap=plt.cm.Reds,\n",
    "                                 normalize=normalize)\n",
    "    disp.ax_.set_title(title)\n",
    "   \n",
    "    print(title)\n",
    "    print(disp.confusion_matrix)\n",
    "    \n",
    "    plt.rcParams[\"figure.figsize\"] = (25,25)\n",
    "    plt.xticks(rotation='vertical')\n",
    "plt.show()"
   ]
  },
  {
   "cell_type": "code",
   "execution_count": null,
   "metadata": {},
   "outputs": [],
   "source": []
  }
 ],
 "metadata": {
  "kernelspec": {
   "display_name": "Python 3",
   "language": "python",
   "name": "python3"
  },
  "language_info": {
   "codemirror_mode": {
    "name": "ipython",
    "version": 3
   },
   "file_extension": ".py",
   "mimetype": "text/x-python",
   "name": "python",
   "nbconvert_exporter": "python",
   "pygments_lexer": "ipython3",
   "version": "3.8.8"
  }
 },
 "nbformat": 4,
 "nbformat_minor": 4
}
